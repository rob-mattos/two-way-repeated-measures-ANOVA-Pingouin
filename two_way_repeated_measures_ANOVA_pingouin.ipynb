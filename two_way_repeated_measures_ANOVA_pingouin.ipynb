{
 "cells": [
  {
   "cell_type": "markdown",
   "metadata": {},
   "source": [
    "<h1>Two-way repeated measures ANOVA with pingouin</h1>"
   ]
  },
  {
   "cell_type": "code",
   "execution_count": 1,
   "metadata": {},
   "outputs": [],
   "source": [
    "#!pip install pingouin\n",
    "import pandas as pd\n",
    "import seaborn as sns\n",
    "import matplotlib.pyplot as plt\n",
    "from pingouin import rm_anova\n",
    "from scipy.stats import levene"
   ]
  },
  {
   "cell_type": "markdown",
   "metadata": {},
   "source": [
    "*__Load the dataset__.*"
   ]
  },
  {
   "cell_type": "code",
   "execution_count": 36,
   "metadata": {},
   "outputs": [
    {
     "data": {
      "text/html": [
       "<div>\n",
       "<style scoped>\n",
       "    .dataframe tbody tr th:only-of-type {\n",
       "        vertical-align: middle;\n",
       "    }\n",
       "\n",
       "    .dataframe tbody tr th {\n",
       "        vertical-align: top;\n",
       "    }\n",
       "\n",
       "    .dataframe thead th {\n",
       "        text-align: right;\n",
       "    }\n",
       "</style>\n",
       "<table border=\"1\" class=\"dataframe\">\n",
       "  <thead>\n",
       "    <tr style=\"text-align: right;\">\n",
       "      <th></th>\n",
       "      <th>Person</th>\n",
       "      <th>Gender</th>\n",
       "      <th>Age</th>\n",
       "      <th>Text_variant</th>\n",
       "      <th>T1Affect</th>\n",
       "      <th>T2Affect</th>\n",
       "    </tr>\n",
       "  </thead>\n",
       "  <tbody>\n",
       "    <tr>\n",
       "      <td>0</td>\n",
       "      <td>0</td>\n",
       "      <td>female</td>\n",
       "      <td>18</td>\n",
       "      <td>gender neutral</td>\n",
       "      <td>76</td>\n",
       "      <td>86</td>\n",
       "    </tr>\n",
       "    <tr>\n",
       "      <td>1</td>\n",
       "      <td>1</td>\n",
       "      <td>male</td>\n",
       "      <td>18</td>\n",
       "      <td>generic masculine</td>\n",
       "      <td>76</td>\n",
       "      <td>74</td>\n",
       "    </tr>\n",
       "    <tr>\n",
       "      <td>2</td>\n",
       "      <td>2</td>\n",
       "      <td>female</td>\n",
       "      <td>18</td>\n",
       "      <td>generic masculine</td>\n",
       "      <td>73</td>\n",
       "      <td>75</td>\n",
       "    </tr>\n",
       "    <tr>\n",
       "      <td>3</td>\n",
       "      <td>3</td>\n",
       "      <td>female</td>\n",
       "      <td>19</td>\n",
       "      <td>generic masculine</td>\n",
       "      <td>50</td>\n",
       "      <td>55</td>\n",
       "    </tr>\n",
       "    <tr>\n",
       "      <td>4</td>\n",
       "      <td>4</td>\n",
       "      <td>male</td>\n",
       "      <td>19</td>\n",
       "      <td>generic masculine</td>\n",
       "      <td>85</td>\n",
       "      <td>86</td>\n",
       "    </tr>\n",
       "  </tbody>\n",
       "</table>\n",
       "</div>"
      ],
      "text/plain": [
       "   Person  Gender  Age       Text_variant  T1Affect  T2Affect\n",
       "0       0  female   18     gender neutral        76        86\n",
       "1       1    male   18  generic masculine        76        74\n",
       "2       2  female   18  generic masculine        73        75\n",
       "3       3  female   19  generic masculine        50        55\n",
       "4       4    male   19  generic masculine        85        86"
      ]
     },
     "execution_count": 36,
     "metadata": {},
     "output_type": "execute_result"
    }
   ],
   "source": [
    "df_original=pd.read_excel('C:\\\\Users\\\\Robert\\\\Downloads\\\\Alle Dateien\\\\Bachelorarbeit Dateien.xlsx')\n",
    "df_complete=df_original[df_original.columns[:5]]\n",
    "#include a 'person' indicator to identify individuals taking repeated measures\n",
    "df_complete.insert(0, 'Person', df_complete.index)\n",
    "#rename columns and values from german to english\n",
    "df_complete.columns=['Person', 'Gender', 'Age', 'Text_variant', 'T1Affect', 'T2Affect']\n",
    "df_complete.loc(df_complete['Gender'].replace(['weiblich', 'männlich'], ['female', 'male'], inplace=True))\n",
    "df_complete.loc(df_complete['Text_variant'].replace(['Kontrollgruppe', 'Versuchsgruppe'], ['gender neutral', 'generic masculine'], inplace=True))\n",
    "df_complete.head()"
   ]
  },
  {
   "cell_type": "markdown",
   "metadata": {},
   "source": [
    "*__Plot Boxplots for repeated measures.__* "
   ]
  },
  {
   "cell_type": "code",
   "execution_count": 19,
   "metadata": {},
   "outputs": [
    {
     "data": {
      "text/plain": [
       "Text(0.5, 1.0, 'T2Affect\\n')"
      ]
     },
     "execution_count": 19,
     "metadata": {},
     "output_type": "execute_result"
    },
    {
     "data": {
      "image/png": "[encoded data removed]",
      "text/plain": [
       "<Figure size 864x360 with 2 Axes>"
      ]
     },
     "metadata": {
      "needs_background": "light"
     },
     "output_type": "display_data"
    }
   ],
   "source": [
    "fig, (ax1, ax2)=plt.subplots(1,2, figsize=(12,5))\n",
    "sns.boxplot(x='Gender', y='T1Affect', hue='Text_variant', data=df_complete, ax=ax1, palette='hls')\n",
    "sns.boxplot(x='Gender', y='T2Affect', hue='Text_variant', data=df_complete, ax=ax2, palette='hls')\n",
    "ax1.set_title('T1Affect\\n', fontdict={'fontsize':'14','fontweight':'bold'})\n",
    "ax2.set_title('T2Affect\\n', fontdict={'fontsize':'14','fontweight':'bold'})"
   ]
  },
  {
   "cell_type": "markdown",
   "metadata": {},
   "source": [
    "There seems to be a signifcant overlap of the data."
   ]
  },
  {
   "cell_type": "markdown",
   "metadata": {},
   "source": [
    "*__Check preconditions for application of ANOVA.__*\n",
    "\n",
    "First: Homoscedasticity and indepence of residuals:"
   ]
  },
  {
   "cell_type": "code",
   "execution_count": 20,
   "metadata": {
    "scrolled": true
   },
   "outputs": [
    {
     "data": {
      "text/plain": [
       "Text(0.5, 1.0, 'T2Affect\\n')"
      ]
     },
     "execution_count": 20,
     "metadata": {},
     "output_type": "execute_result"
    },
    {
     "data": {
      "image/png": "[encoded data removed]",
      "text/plain": [
       "<Figure size 864x288 with 2 Axes>"
      ]
     },
     "metadata": {
      "needs_background": "light"
     },
     "output_type": "display_data"
    }
   ],
   "source": [
    "%matplotlib inline\n",
    "fig, (ax1, ax2)=plt.subplots(1,2, figsize=(12, 4))\n",
    "sns.residplot(x=df_complete['Person'], y=df_complete['T1Affect'], ax=ax1)\n",
    "sns.residplot(x=df_complete['Person'], y=df_complete['T2Affect'], ax=ax2)\n",
    "ax1.set_title('T1Affect\\n', fontdict={'fontsize':'14','fontweight':'bold'})\n",
    "ax2.set_title('T2Affect\\n', fontdict={'fontsize':'14','fontweight':'bold'})"
   ]
  },
  {
   "cell_type": "markdown",
   "metadata": {},
   "source": [
    "→ The residuals are spread unsymmetrically. Therefore, we do not assume homoscedasticity or dependency of residuals. ANOVA can be applied."
   ]
  },
  {
   "cell_type": "markdown",
   "metadata": {},
   "source": [
    "Second, check variance homogeneity:"
   ]
  },
  {
   "cell_type": "code",
   "execution_count": 21,
   "metadata": {},
   "outputs": [],
   "source": [
    "df_K_fem=df_complete.loc[df_complete['Gender']=='female'].loc[df_complete['Text_variant']=='gender neutral']\n",
    "df_K_mas=df_complete.loc[df_complete['Gender']=='male'].loc[df_complete['Text_variant']=='gender neutral']\n",
    "df_V_fem=df_complete.loc[df_complete['Gender']=='female'].loc[df_complete['Text_variant']=='generic masculine']\n",
    "df_V_mas=df_complete.loc[df_complete['Gender']=='male'].loc[df_complete['Text_variant']=='generic masculine']"
   ]
  },
  {
   "cell_type": "code",
   "execution_count": 24,
   "metadata": {},
   "outputs": [
    {
     "name": "stdout",
     "output_type": "stream",
     "text": [
      "Comparison of variance inhomogeneity for male and female subgroups:\n",
      "Variance inhomogeneity m/f control group (T1): p = 0.724081327596023\n",
      "Variance inhomogeneity m/f control group (T2): p = 0.9459548579843959\n",
      "Variance inhomogeneity m/f experimental group (T1): p = 0.7641227450179134\n",
      "Variance inhomogeneity m/f experimental group (T2): p = 0.19400283640026805\n"
     ]
    }
   ],
   "source": [
    "print('Comparison of variance inhomogeneity for male and female subgroups:')\n",
    "print('Variance inhomogeneity m/f control group (T1): p =', levene(df_K_mas['T1Affect'], df_K_fem['T1Affect'], center='mean')[1])\n",
    "print('Variance inhomogeneity m/f control group (T2): p =', levene(df_K_mas['T2Affect'], df_K_fem['T2Affect'], center='mean')[1])\n",
    "print('Variance inhomogeneity m/f experimental group (T1): p =', levene(df_V_mas['T1Affect'], df_V_fem['T1Affect'], center='mean')[1])\n",
    "print('Variance inhomogeneity m/f experimental group (T2): p =', levene(df_V_mas['T2Affect'], df_V_fem['T2Affect'], center='mean')[1])"
   ]
  },
  {
   "cell_type": "markdown",
   "metadata": {},
   "source": [
    "→ None of the Levene tests ↑ is significant. Therefore, the unequal unbalanced group sizes can be ignored and ANOVA can be applied."
   ]
  },
  {
   "cell_type": "markdown",
   "metadata": {},
   "source": [
    "*__Plotting possible interactions.__*"
   ]
  },
  {
   "cell_type": "code",
   "execution_count": 27,
   "metadata": {},
   "outputs": [
    {
     "data": {
      "text/plain": [
       "Text(0.5, 1.0, 'Differences in affective response (T1/T2) \\nin control-/experimental group by gender\\n')"
      ]
     },
     "execution_count": 27,
     "metadata": {},
     "output_type": "execute_result"
    },
    {
     "data": {
      "image/png": "[encoded data removed]",
      "text/plain": [
       "<Figure size 432x288 with 1 Axes>"
      ]
     },
     "metadata": {
      "needs_background": "light"
     },
     "output_type": "display_data"
    }
   ],
   "source": [
    "df_with_diff=df_complete.copy()\n",
    "df_with_diff['T2Affect - T1Affect']=df_with_diff['T2Affect']-df_with_diff['T1Affect']\n",
    "sns.lineplot(x='Text_variant', y='T2Affect - T1Affect', hue='Gender', data=df_with_diff, palette=('#f7879a', '#016795'))\n",
    "plt.title('Differences in affective response (T1/T2) \\nin control-/experimental group by gender\\n', fontdict={'fontsize':'14','fontweight':'bold'})\n",
    "#Die Schattierung um die Linien sind Konfidenzintervalle"
   ]
  },
  {
   "cell_type": "markdown",
   "metadata": {},
   "source": [
    "→ In the control there is no difference between affective responses (T1/T2) in men and women. In the experimental condition, there is a tendency for men to respond with increased emotions and women to respond with decreased emotions."
   ]
  },
  {
   "cell_type": "markdown",
   "metadata": {},
   "source": [
    "*__Apply two-way repeated measures ANOVA.__*"
   ]
  },
  {
   "cell_type": "code",
   "execution_count": 28,
   "metadata": {},
   "outputs": [],
   "source": [
    "complete_test_df=df_complete.melt(id_vars=['Person', 'Gender', 'Text_variant'], value_vars=['T1Affect', 'T2Affect'], value_name='Affective score')"
   ]
  },
  {
   "cell_type": "code",
   "execution_count": 30,
   "metadata": {},
   "outputs": [
    {
     "data": {
      "text/html": [
       "<div>\n",
       "<style scoped>\n",
       "    .dataframe tbody tr th:only-of-type {\n",
       "        vertical-align: middle;\n",
       "    }\n",
       "\n",
       "    .dataframe tbody tr th {\n",
       "        vertical-align: top;\n",
       "    }\n",
       "\n",
       "    .dataframe thead th {\n",
       "        text-align: right;\n",
       "    }\n",
       "</style>\n",
       "<table border=\"1\" class=\"dataframe\">\n",
       "  <thead>\n",
       "    <tr style=\"text-align: right;\">\n",
       "      <th></th>\n",
       "      <th>Source</th>\n",
       "      <th>SS</th>\n",
       "      <th>ddof1</th>\n",
       "      <th>ddof2</th>\n",
       "      <th>MS</th>\n",
       "      <th>F</th>\n",
       "      <th>p-unc</th>\n",
       "      <th>p-GG-corr</th>\n",
       "      <th>np2</th>\n",
       "      <th>eps</th>\n",
       "    </tr>\n",
       "  </thead>\n",
       "  <tbody>\n",
       "    <tr>\n",
       "      <td>0</td>\n",
       "      <td>Gender</td>\n",
       "      <td>2489.196334</td>\n",
       "      <td>1</td>\n",
       "      <td>221</td>\n",
       "      <td>2489.196334</td>\n",
       "      <td>-10.681824</td>\n",
       "      <td>1.0</td>\n",
       "      <td>1.0</td>\n",
       "      <td>-0.050789</td>\n",
       "      <td>1.0</td>\n",
       "    </tr>\n",
       "    <tr>\n",
       "      <td>1</td>\n",
       "      <td>Text_variant</td>\n",
       "      <td>489.846815</td>\n",
       "      <td>1</td>\n",
       "      <td>221</td>\n",
       "      <td>489.846815</td>\n",
       "      <td>-2.186970</td>\n",
       "      <td>1.0</td>\n",
       "      <td>1.0</td>\n",
       "      <td>-0.009995</td>\n",
       "      <td>1.0</td>\n",
       "    </tr>\n",
       "    <tr>\n",
       "      <td>2</td>\n",
       "      <td>Gender * Text_variant</td>\n",
       "      <td>-674.636774</td>\n",
       "      <td>1</td>\n",
       "      <td>221</td>\n",
       "      <td>-674.636774</td>\n",
       "      <td>-5.921165</td>\n",
       "      <td>1.0</td>\n",
       "      <td>NaN</td>\n",
       "      <td>-0.027530</td>\n",
       "      <td>NaN</td>\n",
       "    </tr>\n",
       "  </tbody>\n",
       "</table>\n",
       "</div>"
      ],
      "text/plain": [
       "                  Source           SS  ddof1  ddof2           MS          F  \\\n",
       "0                 Gender  2489.196334      1    221  2489.196334 -10.681824   \n",
       "1           Text_variant   489.846815      1    221   489.846815  -2.186970   \n",
       "2  Gender * Text_variant  -674.636774      1    221  -674.636774  -5.921165   \n",
       "\n",
       "   p-unc  p-GG-corr       np2  eps  \n",
       "0    1.0        1.0 -0.050789  1.0  \n",
       "1    1.0        1.0 -0.009995  1.0  \n",
       "2    1.0        NaN -0.027530  NaN  "
      ]
     },
     "execution_count": 30,
     "metadata": {},
     "output_type": "execute_result"
    }
   ],
   "source": [
    "aov = complete_test_df.rm_anova(dv='Affective score',\n",
    "                  within=['Gender', 'Text_variant'],\n",
    "                  subject='Person')\n",
    "aov"
   ]
  },
  {
   "cell_type": "markdown",
   "metadata": {},
   "source": [
    "→ There are no significant effects for main effects or interactions. At least for interactions, a larger sample size could lead to significant results (as per assessment of the above displayed plot).\n",
    "Post-hoc tests will not be applied, due to insignificant interactions."
   ]
  },
  {
   "cell_type": "code",
   "execution_count": null,
   "metadata": {},
   "outputs": [],
   "source": []
  }
 ],
 "metadata": {
  "kernelspec": {
   "display_name": "Python 3",
   "language": "python",
   "name": "python3"
  },
  "language_info": {
   "codemirror_mode": {
    "name": "ipython",
    "version": 3
   },
   "file_extension": ".py",
   "mimetype": "text/x-python",
   "name": "python",
   "nbconvert_exporter": "python",
   "pygments_lexer": "ipython3",
   "version": "3.7.4"
  }
 },
 "nbformat": 4,
 "nbformat_minor": 2
}
